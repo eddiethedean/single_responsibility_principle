{
 "cells": [
  {
   "cell_type": "code",
   "execution_count": 1,
   "metadata": {},
   "outputs": [],
   "source": [
    "import abc"
   ]
  },
  {
   "cell_type": "code",
   "execution_count": 2,
   "metadata": {},
   "outputs": [],
   "source": [
    "class FormalParserInterface(metaclass=abc.ABCMeta):\n",
    "    @classmethod\n",
    "    def __subclasshook__(cls, subclass):\n",
    "        return (hasattr(subclass, 'load_data_source') and \n",
    "                callable(subclass.load_data_source) and \n",
    "                hasattr(subclass, 'extract_text') and \n",
    "                callable(subclass.extract_text) or \n",
    "                NotImplemented)\n",
    "\n",
    "    @abc.abstractmethod\n",
    "    def load_data_source(self, path: str, file_name: str):\n",
    "        \"\"\"Load in the data set\"\"\"\n",
    "        raise NotImplementedError\n",
    "\n",
    "    @abc.abstractmethod\n",
    "    def extract_text(self, full_file_path: str):\n",
    "        \"\"\"Extract text from the data set\"\"\"\n",
    "        raise NotImplementedError\n",
    "\n",
    "class PdfParserNew(FormalParserInterface):\n",
    "    \"\"\"Extract text from a PDF.\"\"\"\n",
    "    def load_data_source(self, path: str, file_name: str) -> str:\n",
    "        \"\"\"Overrides FormalParserInterface.load_data_source()\"\"\"\n",
    "        pass\n",
    "\n",
    "    def extract_text(self, full_file_path: str) -> dict:\n",
    "        \"\"\"Overrides FormalParserInterface.extract_text()\"\"\"\n",
    "        pass\n",
    "\n",
    "class EmlParserNew(FormalParserInterface):\n",
    "    \"\"\"Extract text from an email.\"\"\"\n",
    "    def load_data_source(self, path: str, file_name: str) -> str:\n",
    "        \"\"\"Overrides FormalParserInterface.load_data_source()\"\"\"\n",
    "        pass\n",
    "\n",
    "    def extract_text_from_email(self, full_file_path: str) -> dict:\n",
    "        \"\"\"A method defined only in EmlParser.\n",
    "        Does not override FormalParserInterface.extract_text()\n",
    "        \"\"\"\n",
    "        pass"
   ]
  },
  {
   "cell_type": "code",
   "execution_count": 3,
   "metadata": {},
   "outputs": [],
   "source": [
    "pdf_parser = PdfParserNew()"
   ]
  },
  {
   "cell_type": "code",
   "execution_count": 4,
   "metadata": {},
   "outputs": [
    {
     "output_type": "error",
     "ename": "TypeError",
     "evalue": "Can't instantiate abstract class EmlParserNew with abstract methods extract_text",
     "traceback": [
      "\u001b[1;31m---------------------------------------------------------------------------\u001b[0m",
      "\u001b[1;31mTypeError\u001b[0m                                 Traceback (most recent call last)",
      "\u001b[1;32m<ipython-input-4-a1b8e37bc760>\u001b[0m in \u001b[0;36m<module>\u001b[1;34m\u001b[0m\n\u001b[1;32m----> 1\u001b[1;33m \u001b[0meml_parser\u001b[0m \u001b[1;33m=\u001b[0m \u001b[0mEmlParserNew\u001b[0m\u001b[1;33m(\u001b[0m\u001b[1;33m)\u001b[0m\u001b[1;33m\u001b[0m\u001b[1;33m\u001b[0m\u001b[0m\n\u001b[0m",
      "\u001b[1;31mTypeError\u001b[0m: Can't instantiate abstract class EmlParserNew with abstract methods extract_text"
     ]
    }
   ],
   "source": [
    "eml_parser = EmlParserNew()"
   ]
  },
  {
   "cell_type": "code",
   "execution_count": null,
   "metadata": {},
   "outputs": [],
   "source": []
  }
 ],
 "metadata": {
  "language_info": {
   "codemirror_mode": {
    "name": "ipython",
    "version": 3
   },
   "file_extension": ".py",
   "mimetype": "text/x-python",
   "name": "python",
   "nbconvert_exporter": "python",
   "pygments_lexer": "ipython3",
   "version": 3
  },
  "orig_nbformat": 2,
  "kernelspec": {
   "name": "python_defaultSpec_1595888278145",
   "display_name": "Python 3.8.3 64-bit ('adaptive_code': conda)"
  }
 },
 "nbformat": 4,
 "nbformat_minor": 2
}