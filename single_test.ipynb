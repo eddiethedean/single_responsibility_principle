{
 "cells": [
  {
   "cell_type": "code",
   "execution_count": 1,
   "metadata": {},
   "outputs": [],
   "source": [
    "from refactoring_for_clarity import TradeProcessor, StreamReader\n",
    "import sqlalchemy as sa\n",
    "from sqlalchemy.ext.declarative import declarative_base\n",
    "from sqlalchemy import Column, Integer, String, Float, MetaData\n",
    "import pandas as pd"
   ]
  },
  {
   "cell_type": "code",
   "execution_count": 2,
   "metadata": {},
   "outputs": [],
   "source": [
    "engine = sa.create_engine('sqlite:///trades.db', echo=False)\n",
    "Base = declarative_base()\n",
    "\n",
    "class TradeDataBase(Base):\n",
    "        __tablename__ = 'trade_table'\n",
    "        id   = Column(Integer, primary_key=True)\n",
    "        source_currency  = Column(String)\n",
    "        destination_currency  = Column(String)\n",
    "        lots  = Column(Float)\n",
    "        price = Column(Float)\n",
    "        \n",
    "Base.metadata.create_all(bind=engine)"
   ]
  },
  {
   "cell_type": "code",
   "execution_count": 3,
   "metadata": {},
   "outputs": [],
   "source": [
    "def stream():\n",
    "    x = 100\n",
    "    while x < 102:\n",
    "        yield 'GBPUSD,' + str(x) + ',0.81'\n",
    "        x += 1"
   ]
  },
  {
   "cell_type": "code",
   "execution_count": 4,
   "metadata": {},
   "outputs": [],
   "source": [
    "reader = StreamReader(stream())"
   ]
  },
  {
   "cell_type": "code",
   "execution_count": 5,
   "metadata": {},
   "outputs": [
    {
     "output_type": "execute_result",
     "data": {
      "text/plain": "'GBPUSD,100,0.81'"
     },
     "metadata": {},
     "execution_count": 5
    }
   ],
   "source": [
    "reader.read_line()"
   ]
  },
  {
   "cell_type": "code",
   "execution_count": 6,
   "metadata": {},
   "outputs": [
    {
     "output_type": "execute_result",
     "data": {
      "text/plain": "'GBPUSD,101,0.81'"
     },
     "metadata": {},
     "execution_count": 6
    }
   ],
   "source": [
    "reader.read_line()"
   ]
  },
  {
   "cell_type": "code",
   "execution_count": 7,
   "metadata": {},
   "outputs": [],
   "source": [
    "trader = TradeProcessor()"
   ]
  },
  {
   "cell_type": "code",
   "execution_count": 8,
   "metadata": {
    "tags": []
   },
   "outputs": [
    {
     "output_type": "stream",
     "name": "stdout",
     "text": "INFO: 2 trades processed\n"
    }
   ],
   "source": [
    "trader.process_trades(stream())"
   ]
  },
  {
   "cell_type": "code",
   "execution_count": 9,
   "metadata": {},
   "outputs": [],
   "source": [
    "df = pd.read_sql('trade_table', engine)"
   ]
  },
  {
   "cell_type": "code",
   "execution_count": 10,
   "metadata": {},
   "outputs": [
    {
     "output_type": "execute_result",
     "data": {
      "text/plain": "    id source_currency destination_currency     lots  price\n0    1             GBP                  USD  0.00100   0.81\n1    2             GBP                  USD  0.00101   0.81\n2    3             GBP                  USD  0.00100   0.81\n3    4             GBP                  USD  0.00101   0.81\n4    5             GBP                  USD  0.00100   0.81\n5    6             GBP                  USD  0.00101   0.81\n6    7             GBP                  USD  0.00100   0.81\n7    8             GBP                  USD  0.00101   0.81\n8    9             GBP                  USD  0.00100   0.81\n9   10             GBP                  USD  0.00101   0.81\n10  11             GBP                  USD  0.00100   0.81\n11  12             GBP                  USD  0.00101   0.81\n12  13             GBP                  USD  0.00100   0.81\n13  14             GBP                  USD  0.00101   0.81",
      "text/html": "<div>\n<style scoped>\n    .dataframe tbody tr th:only-of-type {\n        vertical-align: middle;\n    }\n\n    .dataframe tbody tr th {\n        vertical-align: top;\n    }\n\n    .dataframe thead th {\n        text-align: right;\n    }\n</style>\n<table border=\"1\" class=\"dataframe\">\n  <thead>\n    <tr style=\"text-align: right;\">\n      <th></th>\n      <th>id</th>\n      <th>source_currency</th>\n      <th>destination_currency</th>\n      <th>lots</th>\n      <th>price</th>\n    </tr>\n  </thead>\n  <tbody>\n    <tr>\n      <th>0</th>\n      <td>1</td>\n      <td>GBP</td>\n      <td>USD</td>\n      <td>0.00100</td>\n      <td>0.81</td>\n    </tr>\n    <tr>\n      <th>1</th>\n      <td>2</td>\n      <td>GBP</td>\n      <td>USD</td>\n      <td>0.00101</td>\n      <td>0.81</td>\n    </tr>\n    <tr>\n      <th>2</th>\n      <td>3</td>\n      <td>GBP</td>\n      <td>USD</td>\n      <td>0.00100</td>\n      <td>0.81</td>\n    </tr>\n    <tr>\n      <th>3</th>\n      <td>4</td>\n      <td>GBP</td>\n      <td>USD</td>\n      <td>0.00101</td>\n      <td>0.81</td>\n    </tr>\n    <tr>\n      <th>4</th>\n      <td>5</td>\n      <td>GBP</td>\n      <td>USD</td>\n      <td>0.00100</td>\n      <td>0.81</td>\n    </tr>\n    <tr>\n      <th>5</th>\n      <td>6</td>\n      <td>GBP</td>\n      <td>USD</td>\n      <td>0.00101</td>\n      <td>0.81</td>\n    </tr>\n    <tr>\n      <th>6</th>\n      <td>7</td>\n      <td>GBP</td>\n      <td>USD</td>\n      <td>0.00100</td>\n      <td>0.81</td>\n    </tr>\n    <tr>\n      <th>7</th>\n      <td>8</td>\n      <td>GBP</td>\n      <td>USD</td>\n      <td>0.00101</td>\n      <td>0.81</td>\n    </tr>\n    <tr>\n      <th>8</th>\n      <td>9</td>\n      <td>GBP</td>\n      <td>USD</td>\n      <td>0.00100</td>\n      <td>0.81</td>\n    </tr>\n    <tr>\n      <th>9</th>\n      <td>10</td>\n      <td>GBP</td>\n      <td>USD</td>\n      <td>0.00101</td>\n      <td>0.81</td>\n    </tr>\n    <tr>\n      <th>10</th>\n      <td>11</td>\n      <td>GBP</td>\n      <td>USD</td>\n      <td>0.00100</td>\n      <td>0.81</td>\n    </tr>\n    <tr>\n      <th>11</th>\n      <td>12</td>\n      <td>GBP</td>\n      <td>USD</td>\n      <td>0.00101</td>\n      <td>0.81</td>\n    </tr>\n    <tr>\n      <th>12</th>\n      <td>13</td>\n      <td>GBP</td>\n      <td>USD</td>\n      <td>0.00100</td>\n      <td>0.81</td>\n    </tr>\n    <tr>\n      <th>13</th>\n      <td>14</td>\n      <td>GBP</td>\n      <td>USD</td>\n      <td>0.00101</td>\n      <td>0.81</td>\n    </tr>\n  </tbody>\n</table>\n</div>"
     },
     "metadata": {},
     "execution_count": 10
    }
   ],
   "source": [
    "df"
   ]
  },
  {
   "cell_type": "code",
   "execution_count": null,
   "metadata": {},
   "outputs": [],
   "source": []
  }
 ],
 "metadata": {
  "kernelspec": {
   "display_name": "Python 3",
   "language": "python",
   "name": "python3"
  },
  "language_info": {
   "codemirror_mode": {
    "name": "ipython",
    "version": 3
   },
   "file_extension": ".py",
   "mimetype": "text/x-python",
   "name": "python",
   "nbconvert_exporter": "python",
   "pygments_lexer": "ipython3",
   "version": "3.6.5"
  }
 },
 "nbformat": 4,
 "nbformat_minor": 2
}